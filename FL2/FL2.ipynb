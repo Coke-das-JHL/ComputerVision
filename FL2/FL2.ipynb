{
 "cells": [
  {
   "cell_type": "code",
   "execution_count": 1,
   "id": "altered-chrome",
   "metadata": {
    "scrolled": true
   },
   "outputs": [
    {
     "data": {
      "image/png": "[encoded data removed]",
      "text/plain": [
       "<Figure size 432x216 with 2 Axes>"
      ]
     },
     "metadata": {
      "needs_background": "light"
     },
     "output_type": "display_data"
    }
   ],
   "source": [
    "#1 Generate random image (MxN) noise\n",
    "import numpy as np\n",
    "import cv2\n",
    "import math \n",
    "import matplotlib.pyplot as plt\n",
    "\n",
    "img = cv2.imread('Image/lena.bmp')\n",
    "img = cv2.cvtColor(img, cv2.COLOR_BGR2GRAY)\n",
    "\n",
    "\n",
    "def GaussianNoiseImage(M,N):\n",
    "    noise_img = np.random.normal(0, 10, (M,N))  # mean, std, shape\n",
    "    return noise_img\n",
    "\n",
    "def uniformNoiseImage(M,N):\n",
    "    noise_img = np.random.uniform(-30,30,size=(M,N))\n",
    "    return noise_img\n",
    "\n",
    "noise_0 = uniformNoiseImage(512,512)\n",
    "noise_1 = GaussianNoiseImage(512,512)\n",
    "noise_img_0 = (img + noise_0).astype('uint8')\n",
    "noise_img_1 = (img + noise_1).astype('uint8')\n",
    "\n",
    "cv2.imshow('original', img)\n",
    "cv2.imshow('uniform', noise_0)\n",
    "cv2.imshow('gaussian', noise_1)\n",
    "cv2.imshow('uniform+Img', noise_img_0)\n",
    "cv2.imshow('gaussian+Img', noise_img_1)\n",
    "cv2.waitKey(0)\n",
    "cv2.destroyAllWindows()\n",
    "\n",
    "plt.figure(figsize=(6,3))\n",
    "plt.subplot(1,2,1)\n",
    "plt.hist(noise_0.ravel(), bins=256)\n",
    "plt.title('uniform')\n",
    "plt.subplot(1,2,2)\n",
    "plt.hist(noise_1.ravel(), bins=256)\n",
    "plt.title('gaussian')\n",
    "plt.show()"
   ]
  },
  {
   "cell_type": "markdown",
   "id": "prospective-pantyhose",
   "metadata": {},
   "source": [
    "imshow(winname, mat) -> None\n",
    "\n",
    ". The function may scale the image, depending on its depth:\n",
    "\n",
    ". - If the image is 8-bit unsigned, it is displayed as is.\n",
    "\n",
    ". - If the image is 16-bit unsigned or 32-bit integer, the pixels are divided by 256. \n",
    "\n",
    "    That is, the value range [0,255\\*256] is mapped to [0,255].\n",
    "    \n",
    ". - If the image is 32-bit or 64-bit floating-point, the pixel values are multiplied by 255. That is, the\n",
    "\n",
    ".   value range [0,1] is mapped to [0,255].\n"
   ]
  },
  {
   "cell_type": "code",
   "execution_count": 2,
   "id": "valued-astronomy",
   "metadata": {},
   "outputs": [
    {
     "name": "stdout",
     "output_type": "stream",
     "text": [
      "gaussian_mse:  60.776519775390625\n",
      "gaussian_pnsr:  30.293445332651086\n",
      "uniform_mse:  91.22225189208984\n",
      "uniform_pnsr:  28.529795719343\n"
     ]
    }
   ],
   "source": [
    "#2. Compute MSE and PSNR. \n",
    "\n",
    "def MSE(img1, img2):\n",
    "    mse = ((img1-img2)**2).mean()\n",
    "    return mse\n",
    "\n",
    "def PNSR(img1, img2):\n",
    "    mse = MSE(img1,img2)\n",
    "    pnsr = 10*math.log10(255**2 / mse )\n",
    "    return pnsr \n",
    "\n",
    "gaussian_mse = MSE(img, noise_img_1)\n",
    "gaussian_pnsr = PNSR(img, noise_img_1)\n",
    "print('gaussian_mse: ', gaussian_mse)\n",
    "print('gaussian_pnsr: ', gaussian_pnsr)\n",
    "\n",
    "uniform_mse = MSE(img, noise_img_0)\n",
    "uniform_pnsr = PNSR(img, noise_img_0)\n",
    "print('uniform_mse: ',uniform_mse)\n",
    "print('uniform_pnsr: ',uniform_pnsr)"
   ]
  },
  {
   "cell_type": "code",
   "execution_count": 3,
   "id": "authentic-slope",
   "metadata": {
    "scrolled": true
   },
   "outputs": [],
   "source": [
    "# 3. Design KxK Box and Gaussian filter kernel generation function. \n",
    "\n",
    "def BoxFilter(size):\n",
    "    filter = np.ones((size,size))\n",
    "    filter = filter / filter.size\n",
    "    return filter\n",
    "\n",
    "def gaussianFilter(size, std):\n",
    "    filter = np.ones((size,size))\n",
    "    filterOffset = size // 2\n",
    "    for i in range(size):\n",
    "        for j in range(size):\n",
    "            filter[i][j] = math.exp( -1 * ( (i-filterOffset)**2 + (j-filterOffset)**2 ) / (2*(std**2)) )\n",
    "    return filter / filter.sum()\n",
    "    \n",
    "box = BoxFilter(3)\n",
    "gaussian3_3 = gaussianFilter(3, 3)\n",
    "gaussian5_3 = gaussianFilter(5, 3)"
   ]
  },
  {
   "cell_type": "code",
   "execution_count": null,
   "id": "athletic-greeting",
   "metadata": {},
   "outputs": [],
   "source": [
    "# 4. Design zero and mirror padding methods. \n",
    "\n",
    "#def zeroPadding(img, p):\n",
    "#    return np.pad(img, ((p,p),(p,p)), 'constant', constant_values=0)\n",
    "\n",
    "def mirrorPadding(img, p ):\n",
    "    return np.pad(img, ((p,p),(p,p)), 'symmetric')\n",
    "\n",
    "def zeroPadding(img, p):\n",
    "    h, w = img.shape\n",
    "    padded = np.zeros((h+p*2,w+p*2))\n",
    "    padded[p:h+p,p:w+p] = img.copy()\n",
    "    return padded.astype('uint8')\n",
    "\n",
    "zeroP = zeroPadding(img, 20)  \n",
    "mirrorP = mirrorPadding(img, 20)\n",
    "cv2.imshow('uniform+Img', zeroP)\n",
    "cv2.imshow('gaussian+Img', mirrorP)\n",
    "cv2.waitKey(0)\n",
    "cv2.destroyAllWindows()"
   ]
  },
  {
   "cell_type": "code",
   "execution_count": 5,
   "id": "dental-clause",
   "metadata": {},
   "outputs": [],
   "source": [
    "# 5. Design image filtering. \n",
    "def filtering(img, filter):\n",
    "    h, w = img.shape\n",
    "    filterSize = len(filter)\n",
    "    padding = (filterSize-1) // 2\n",
    "    img = mirrorPadding(img, padding)\n",
    "    filteredImg = np.zeros((h,w))\n",
    "    \n",
    "    for i in range(padding,h+padding):\n",
    "        for j in range(padding,w+padding):\n",
    "            product = np.multiply( img[i-padding:i+padding+1,j-padding:j+padding+1], filter )\n",
    "            filteredImg[i-padding][j-padding] = product.sum()\n",
    "    return filteredImg.astype('uint8')"
   ]
  },
  {
   "cell_type": "code",
   "execution_count": 8,
   "id": "metric-irish",
   "metadata": {},
   "outputs": [],
   "source": [
    "filtered_img3_3   = filtering(noise_img_1, gaussian3_3)\n",
    "filtered_img5_3   = filtering(noise_img_1, gaussian5_3)\n",
    "cv2.imshow('noise image', noise_img_1)\n",
    "cv2.imshow('FilteredGaussian FilterSize: 3, std: 3', filtered_img3_3)\n",
    "cv2.imshow('FilteredGaussian FilterSize: 5, std: 3', filtered_img5_3)\n",
    "cv2.waitKey(0)\n",
    "cv2.destroyAllWindows()"
   ]
  },
  {
   "cell_type": "code",
   "execution_count": 7,
   "id": "anonymous-adoption",
   "metadata": {},
   "outputs": [
    {
     "name": "stdout",
     "output_type": "stream",
     "text": [
      "gaussian_mse (FilterSize: 3, std: 3) :  27.363819122314453\n",
      "gaussian_pnsr (FilterSize: 3, std: 3):  33.75903649837528\n",
      "gaussian_mse (FilterSize: 5, std: 3):  29.83753204345703\n",
      "gaussian_pnsr (FilterSize: 5, std: 3):  33.383174624504484\n"
     ]
    }
   ],
   "source": [
    "gaussian_mse = MSE(img, filtered_img3_3)\n",
    "gaussian_pnsr = PNSR(img, filtered_img3_3)\n",
    "print('gaussian_mse (FilterSize: 3, std: 3) : ', gaussian_mse)\n",
    "print('gaussian_pnsr (FilterSize: 3, std: 3): ', gaussian_pnsr)\n",
    "\n",
    "gaussian_mse = MSE(img, filtered_img5_3)\n",
    "gaussian_pnsr = PNSR(img, filtered_img5_3)\n",
    "print('gaussian_mse (FilterSize: 5, std: 3): ', gaussian_mse)\n",
    "print('gaussian_pnsr (FilterSize: 5, std: 3): ', gaussian_pnsr)"
   ]
  }
 ],
 "metadata": {
  "kernelspec": {
   "display_name": "Python 3",
   "language": "python",
   "name": "python3"
  },
  "language_info": {
   "codemirror_mode": {
    "name": "ipython",
    "version": 3
   },
   "file_extension": ".py",
   "mimetype": "text/x-python",
   "name": "python",
   "nbconvert_exporter": "python",
   "pygments_lexer": "ipython3",
   "version": "3.7.10"
  }
 },
 "nbformat": 4,
 "nbformat_minor": 5
}
