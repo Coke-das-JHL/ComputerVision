{
 "cells": [
  {
   "cell_type": "code",
   "execution_count": 1,
   "metadata": {},
   "outputs": [
    {
     "data": {
      "text/plain": [
       "(512, 512)"
      ]
     },
     "execution_count": 1,
     "metadata": {},
     "output_type": "execute_result"
    }
   ],
   "source": [
    "import numpy as np\n",
    "import cv2\n",
    "import matplotlib.pyplot as plt\n",
    "\n",
    "img = cv2.imread('Image/pepper.bmp')\n",
    "\n",
    "def cvtGray(InputImage): # 3채널 이미지 input\n",
    "    binaryImage = img[:,:,0]*0.2 + img[:,:,1]*0.5 + img[:,:,2]*0.3\n",
    "    binaryImage = binaryImage.astype('uint8')\n",
    "    return binaryImage\n",
    "\n",
    "# grayScale Image\n",
    "grey = cvtGray(img)\n",
    "grey.shape"
   ]
  },
  {
   "cell_type": "code",
   "execution_count": 2,
   "metadata": {},
   "outputs": [],
   "source": [
    "def toHist(inputImage, bins):\n",
    "    h, w = inputImage.shape[:2]\n",
    "    hist = np.zeros(bins)\n",
    "    width= 256 / bins\n",
    "    inputImage = inputImage // width\n",
    "    for i in range(h):\n",
    "        for j in range(w):\n",
    "            index = int(inputImage[i][j])\n",
    "            hist[index] +=1 \n",
    "            \n",
    "    return hist"
   ]
  },
  {
   "cell_type": "code",
   "execution_count": 3,
   "metadata": {},
   "outputs": [],
   "source": [
    "# histogram\n",
    "hist = toHist(grey, 256)"
   ]
  },
  {
   "cell_type": "code",
   "execution_count": 4,
   "metadata": {},
   "outputs": [
    {
     "data": {
      "text/plain": [
       "True"
      ]
     },
     "execution_count": 4,
     "metadata": {},
     "output_type": "execute_result"
    }
   ],
   "source": [
    "# 히스토그램 값들의 합 === 전체 픽셀 수\n",
    "sum(hist) == 512 * 512 "
   ]
  },
  {
   "cell_type": "code",
   "execution_count": 5,
   "metadata": {
    "scrolled": true
   },
   "outputs": [],
   "source": [
    "# Normalized histogram\n",
    "hist_hat = hist / (512 * 512)"
   ]
  },
  {
   "cell_type": "code",
   "execution_count": 6,
   "metadata": {},
   "outputs": [],
   "source": [
    "# calculate weight \n",
    "weight = np.zeros(256)\n",
    "weight[0] = hist_hat[0] # 초깃값\n",
    "\n",
    "for i in range(1,len(hist_hat)):\n",
    "    weight[i] = weight[i-1] + hist_hat[i]"
   ]
  },
  {
   "cell_type": "code",
   "execution_count": 7,
   "metadata": {},
   "outputs": [
    {
     "name": "stdout",
     "output_type": "stream",
     "text": [
      "115.58695983886719\n"
     ]
    }
   ],
   "source": [
    "totalMean = np.sum(grey) / (512 * 512)\n",
    "print( totalMean )"
   ]
  },
  {
   "cell_type": "code",
   "execution_count": 8,
   "metadata": {},
   "outputs": [],
   "source": [
    "# calculate mean_0\n",
    "mean_0 = np.zeros(256)\n",
    "\n",
    "for i in range(1,256):\n",
    "    mean_0[i] = (weight[i-1]*mean_0[i-1] + i * hist_hat[i]) / weight[i]"
   ]
  },
  {
   "cell_type": "code",
   "execution_count": 9,
   "metadata": {},
   "outputs": [],
   "source": [
    "# calculate mean_1\n",
    "mean_1 = np.zeros(256)\n",
    "weight_1 = 1 - weight \n",
    "\n",
    "for i in range(256):\n",
    "    if(1-weight[i]):\n",
    "        mean_1[i] = ( totalMean - weight[i]*mean_0[i] ) / (1 - weight[i])\n",
    "    else:\n",
    "        pass"
   ]
  },
  {
   "cell_type": "code",
   "execution_count": 10,
   "metadata": {},
   "outputs": [
    {
     "name": "stdout",
     "output_type": "stream",
     "text": [
      "115\n"
     ]
    }
   ],
   "source": [
    "v_between = np.zeros(256)\n",
    "for i in range(256):\n",
    "    v_between[i] = weight[i]*(1-weight[i])*(mean_0[i] - mean_1[i])**2\n",
    "\n",
    "treshold = np.argmax(v_between)\n",
    "print(treshold)"
   ]
  },
  {
   "cell_type": "code",
   "execution_count": 11,
   "metadata": {},
   "outputs": [],
   "source": [
    "grey[grey >= treshold] = 255"
   ]
  },
  {
   "cell_type": "code",
   "execution_count": 12,
   "metadata": {},
   "outputs": [],
   "source": [
    "grey[grey < treshold] = 0"
   ]
  },
  {
   "cell_type": "code",
   "execution_count": 13,
   "metadata": {},
   "outputs": [
    {
     "data": {
      "text/plain": [
       "array([[  0,   0,   0, ...,   0,   0,   0],\n",
       "       [  0,   0,   0, ..., 255, 255, 255],\n",
       "       [  0, 255,   0, ..., 255, 255, 255],\n",
       "       ...,\n",
       "       [  0, 255, 255, ..., 255, 255, 255],\n",
       "       [  0, 255,   0, ..., 255, 255, 255],\n",
       "       [  0,   0, 255, ..., 255, 255, 255]], dtype=uint8)"
      ]
     },
     "execution_count": 13,
     "metadata": {},
     "output_type": "execute_result"
    }
   ],
   "source": [
    "cv2.imshow('binary', grey)\n",
    "cv2.waitKey(0)\n",
    "cv2.destroyAllWindows()\n",
    "grey"
   ]
  }
 ],
 "metadata": {
  "kernelspec": {
   "display_name": "Python 3",
   "language": "python",
   "name": "python3"
  },
  "language_info": {
   "codemirror_mode": {
    "name": "ipython",
    "version": 3
   },
   "file_extension": ".py",
   "mimetype": "text/x-python",
   "name": "python",
   "nbconvert_exporter": "python",
   "pygments_lexer": "ipython3",
   "version": "3.7.9"
  }
 },
 "nbformat": 4,
 "nbformat_minor": 4
}
