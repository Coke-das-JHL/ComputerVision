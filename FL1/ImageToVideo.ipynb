{
 "cells": [
  {
   "cell_type": "code",
   "execution_count": 1,
   "metadata": {},
   "outputs": [],
   "source": [
    "import numpy as np\n",
    "import cv2\n",
    "\n",
    "img = cv2.imread('Image/pepper.bmp')"
   ]
  },
  {
   "cell_type": "code",
   "execution_count": 2,
   "metadata": {},
   "outputs": [],
   "source": [
    "def snail(InputImg):\n",
    "    n=4\n",
    "    row = 0             # row index\n",
    "    col = -128          # col index\n",
    "    trans = 128         # 변하는 값\n",
    "    video = list()      # frame list\n",
    "    while n > 0:            \n",
    "        for i in range(n): \n",
    "            col += trans\n",
    "            cropImg = img[row:row+128, col:col+128,:]\n",
    "            video.append(cropImg)\n",
    "            \n",
    "        n -= 1 \n",
    "        for j in range(n): \n",
    "            row += trans\n",
    "            cropImg = img[row:row+128, col:col+128,:]\n",
    "            video.append(cropImg)\n",
    "            \n",
    "        trans *= -1 \n",
    "    return video\n",
    "\n",
    "\n",
    "video = snail(img)"
   ]
  },
  {
   "cell_type": "code",
   "execution_count": 3,
   "metadata": {},
   "outputs": [
    {
     "name": "stdout",
     "output_type": "stream",
     "text": [
      "(128, 128, 3)\n",
      "16\n"
     ]
    }
   ],
   "source": [
    "print(video[0].shape)\n",
    "print(len(video))"
   ]
  },
  {
   "cell_type": "code",
   "execution_count": 4,
   "metadata": {},
   "outputs": [],
   "source": [
    "cnt = len(video)\n",
    "idx = 0\n",
    "\n",
    "while True:\n",
    "    cv2.imshow('image', video[idx])\n",
    "    if cv2.waitKey(500) >= 0:  #키 입력을 반환하거나 입력이 없을 시 255 반환\n",
    "        cv2.destroyAllWindows()\n",
    "        break\n",
    "\n",
    "    idx = (idx+1) % cnt"
   ]
  },
  {
   "cell_type": "code",
   "execution_count": 5,
   "metadata": {},
   "outputs": [],
   "source": [
    "cv2.imshow('video[0]',video[0])\n",
    "cv2.moveWindow('video[0]', 200,100)\n",
    "cv2.imshow('video[1]',video[1])\n",
    "cv2.moveWindow('video[1]', 400,100)\n",
    "cv2.imshow('video[2]',video[2])\n",
    "cv2.moveWindow('video[2]', 600,100)\n",
    "cv2.imshow('video[3]',video[3])\n",
    "cv2.moveWindow('video[3]', 800,100)\n",
    "cv2.imshow('video[4]',video[4])\n",
    "cv2.moveWindow('video[4]', 800,300)\n",
    "cv2.imshow('video[5]',video[5])\n",
    "cv2.moveWindow('video[5]', 800,500)\n",
    "cv2.imshow('video[6]',video[6])\n",
    "cv2.moveWindow('video[6]', 800,700)\n",
    "cv2.imshow('video[7]',video[7])\n",
    "cv2.moveWindow('video[7]', 600,700)\n",
    "cv2.imshow('video[8]',video[8])\n",
    "cv2.moveWindow('video[8]', 400,700)\n",
    "cv2.imshow('video[9]',video[9])\n",
    "cv2.moveWindow('video[9]', 200,700)\n",
    "cv2.imshow('video[10]',video[10])\n",
    "cv2.moveWindow('video[10]',200,500)\n",
    "cv2.imshow('video[11]',video[11])\n",
    "cv2.moveWindow('video[11]',200,300)\n",
    "cv2.imshow('video[12]',video[12])\n",
    "cv2.moveWindow('video[12]',400,300)\n",
    "cv2.imshow('video[13]',video[13])\n",
    "cv2.moveWindow('video[13]',600,300)\n",
    "cv2.imshow('video[14]',video[14])\n",
    "cv2.moveWindow('video[14]',600,500)\n",
    "cv2.imshow('video[15]',video[15])\n",
    "cv2.moveWindow('video[15]',400,500)\n",
    "cv2.waitKey(0)\n",
    "cv2.destroyAllWindows()"
   ]
  }
 ],
 "metadata": {
  "kernelspec": {
   "display_name": "Python 3",
   "language": "python",
   "name": "python3"
  },
  "language_info": {
   "codemirror_mode": {
    "name": "ipython",
    "version": 3
   },
   "file_extension": ".py",
   "mimetype": "text/x-python",
   "name": "python",
   "nbconvert_exporter": "python",
   "pygments_lexer": "ipython3",
   "version": "3.7.9"
  }
 },
 "nbformat": 4,
 "nbformat_minor": 4
}
