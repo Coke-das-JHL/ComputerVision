{
 "cells": [
  {
   "cell_type": "code",
   "execution_count": 32,
   "metadata": {},
   "outputs": [],
   "source": [
    "import numpy as np\n",
    "import cv2\n",
    "import matplotlib.pyplot as plt\n",
    "\n",
    "img = cv2.imread('Image/pepper.bmp')\n",
    "\n",
    "def cvtGray(InputImage): # 3채널 이미지 input\n",
    "    binaryImage = img[:,:,0]*0.2 + img[:,:,1]*0.5 + img[:,:,2]*0.3\n",
    "    binaryImage = binaryImage.astype('uint8')\n",
    "    return binaryImage\n",
    "\n",
    "def toHist(inputImage, bins):\n",
    "    h, w = inputImage.shape[:2]\n",
    "    hist = np.zeros(bins)\n",
    "    width= 256 / bins\n",
    "    inputImage = inputImage // width\n",
    "    for i in range(h):\n",
    "        for j in range(w):\n",
    "            index = int(inputImage[i][j])\n",
    "            hist[index] +=1 \n",
    "            \n",
    "    return hist\n",
    "\n",
    "grey = cvtGray(img)\n",
    "h,w = grey.shape\n",
    "hist = toHist(grey,256)"
   ]
  },
  {
   "cell_type": "code",
   "execution_count": 33,
   "metadata": {},
   "outputs": [],
   "source": [
    "norm_hist = hist / ( h * w )        # PDF\n",
    "cul_hist  = np.cumsum(norm_hist)    # CDF"
   ]
  },
  {
   "cell_type": "code",
   "execution_count": 34,
   "metadata": {},
   "outputs": [],
   "source": [
    "cul_hist  = np.cumsum(norm_hist)    # CDF"
   ]
  },
  {
   "cell_type": "code",
   "execution_count": 35,
   "metadata": {},
   "outputs": [
    {
     "data": {
      "text/plain": [
       "array([  0.,   0.,   0.,   0.,   0.,   0.,   1.,   1.,   2.,   3.,   4.,\n",
       "         4.,   6.,   7.,   7.,   8.,   9.,  10.,  11.,  12.,  13.,  14.,\n",
       "        15.,  15.,  16.,  17.,  17.,  18.,  19.,  19.,  20.,  20.,  21.,\n",
       "        21.,  22.,  22.,  23.,  23.,  24.,  24.,  24.,  25.,  25.,  26.,\n",
       "        26.,  27.,  27.,  28.,  28.,  29.,  30.,  30.,  31.,  32.,  33.,\n",
       "        34.,  34.,  35.,  36.,  37.,  38.,  39.,  40.,  41.,  42.,  43.,\n",
       "        44.,  45.,  45.,  46.,  47.,  48.,  49.,  50.,  51.,  53.,  54.,\n",
       "        55.,  57.,  58.,  60.,  62.,  64.,  66.,  68.,  70.,  72.,  75.,\n",
       "        77.,  80.,  82.,  85.,  88.,  91.,  93.,  96.,  99., 102., 104.,\n",
       "       107., 109., 111., 112., 114., 115., 117., 118., 119., 120., 122.,\n",
       "       123., 124., 125., 126., 127., 129., 130., 131., 132., 133., 134.,\n",
       "       135., 136., 137., 138., 139., 141., 142., 143., 145., 146., 147.,\n",
       "       149., 150., 152., 153., 155., 157., 158., 160., 162., 163., 165.,\n",
       "       167., 169., 170., 172., 174., 176., 178., 179., 181., 183., 185.,\n",
       "       187., 189., 190., 192., 194., 196., 197., 199., 201., 202., 204.,\n",
       "       206., 208., 210., 211., 213., 214., 216., 218., 219., 221., 223.,\n",
       "       225., 227., 229., 231., 232., 234., 235., 237., 238., 239., 240.,\n",
       "       241., 241., 242., 242., 243., 244., 244., 245., 245., 246., 246.,\n",
       "       247., 247., 248., 248., 249., 249., 250., 250., 251., 252., 252.,\n",
       "       253., 253., 254., 254., 254., 255., 255., 255., 256., 256., 256.,\n",
       "       256., 256., 256., 256., 256., 256., 256., 256., 256., 256., 256.,\n",
       "       256., 256., 256., 256., 256., 256., 256., 256., 256., 256., 256.,\n",
       "       256., 256., 256., 256., 256., 256., 256., 256., 256., 256., 256.,\n",
       "       256., 256., 256.])"
      ]
     },
     "execution_count": 35,
     "metadata": {},
     "output_type": "execute_result"
    }
   ],
   "source": [
    "cul_hist = cul_hist * 256\n",
    "cul_hist = np.around(cul_hist)      # transfer function\n",
    "cul_hist"
   ]
  },
  {
   "cell_type": "code",
   "execution_count": 36,
   "metadata": {},
   "outputs": [],
   "source": [
    "equalized_grey = cul_hist[grey].astype('uint8')  #transform"
   ]
  },
  {
   "cell_type": "code",
   "execution_count": 37,
   "metadata": {},
   "outputs": [],
   "source": [
    "cv2.imshow('eqaul', equalized_grey)\n",
    "cv2.imshow('grey', grey)\n",
    "cv2.waitKey(0)\n",
    "cv2.destroyAllWindows()"
   ]
  },
  {
   "cell_type": "code",
   "execution_count": 38,
   "metadata": {},
   "outputs": [
    {
     "data": {
      "image/png": "[encoded data removed]",
      "text/plain": [
       "<Figure size 1152x360 with 2 Axes>"
      ]
     },
     "metadata": {
      "needs_background": "light"
     },
     "output_type": "display_data"
    }
   ],
   "source": [
    "x = np.arange(len(hist))\n",
    "\n",
    "plt.figure(figsize=(16,5))\n",
    "plt.subplot(1,2,1)\n",
    "plt.bar(x,hist)\n",
    "plt.subplot(1,2,2)\n",
    "plt.hist(grey.ravel(),bins=256)\n",
    "plt.show()"
   ]
  },
  {
   "cell_type": "code",
   "execution_count": 39,
   "metadata": {},
   "outputs": [
    {
     "data": {
      "image/png": "[encoded data removed]",
      "text/plain": [
       "<Figure size 1152x360 with 2 Axes>"
      ]
     },
     "metadata": {
      "needs_background": "light"
     },
     "output_type": "display_data"
    }
   ],
   "source": [
    "img2 = cv2.equalizeHist(grey)\n",
    "\n",
    "equalized_hist = toHist(equalized_grey,255)\n",
    "x = np.arange(len(equalized_hist))\n",
    "\n",
    "plt.figure(figsize=(16,5))\n",
    "plt.subplot(1,2,1)\n",
    "plt.bar(x,equalized_hist)\n",
    "plt.subplot(1,2,2)\n",
    "plt.hist(img2.ravel(),bins=256)\n",
    "plt.show()"
   ]
  },
  {
   "cell_type": "code",
   "execution_count": null,
   "metadata": {},
   "outputs": [],
   "source": []
  }
 ],
 "metadata": {
  "kernelspec": {
   "display_name": "Python 3",
   "language": "python",
   "name": "python3"
  },
  "language_info": {
   "codemirror_mode": {
    "name": "ipython",
    "version": 3
   },
   "file_extension": ".py",
   "mimetype": "text/x-python",
   "name": "python",
   "nbconvert_exporter": "python",
   "pygments_lexer": "ipython3",
   "version": "3.7.9"
  }
 },
 "nbformat": 4,
 "nbformat_minor": 4
}
