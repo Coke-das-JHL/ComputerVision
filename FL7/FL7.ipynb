{
 "cells": [
  {
   "cell_type": "code",
   "execution_count": 1,
   "id": "palestinian-gender",
   "metadata": {},
   "outputs": [
    {
     "name": "stdout",
     "output_type": "stream",
     "text": [
      "<class 'pandas.core.frame.DataFrame'>\n",
      "<class 'numpy.ndarray'>\n",
      "mnist data shape :  (70000, 784)\n",
      "mnist target shape :  (70000,)\n",
      "iris data shape :  (150, 4)\n",
      "iris target shape :  (150,)\n"
     ]
    }
   ],
   "source": [
    "# 1. Prepare the well-known dataset for hand-written digits (MNIST) and flowers (IRIS). \n",
    "import sklearn.datasets as dataset\n",
    "import numpy as np\n",
    "import matplotlib.pyplot as plt\n",
    "import pandas as pd\n",
    "\n",
    "mnist = dataset.fetch_openml('mnist_784')\n",
    "iris = dataset.load_iris()\n",
    "\n",
    "print(type(mnist.data))\n",
    "print(type(iris.data))\n",
    "\n",
    "mnist_data = mnist.data.to_numpy()\n",
    "mnist_target = mnist.target.to_numpy()\n",
    "print('mnist data shape : ',mnist_data.shape)\n",
    "print('mnist target shape : ',mnist_target.shape)\n",
    "\n",
    "iris_data = iris.data\n",
    "iris_target = iris.target\n",
    "print('iris data shape : ', iris_data.shape)\n",
    "print('iris target shape : ', iris_target.shape)"
   ]
  },
  {
   "cell_type": "code",
   "execution_count": 2,
   "id": "rough-piano",
   "metadata": {},
   "outputs": [
    {
     "name": "stdout",
     "output_type": "stream",
     "text": [
      "testset_idx \n",
      "\n",
      "[  7   8  13  14  15  16  28  31  34  36  52  54  56  66  67  76  83  85\n",
      "  90  93  98 106 110 114 118 122 125 131 134 144]\n",
      "\n",
      " trainingset_idx \n",
      "\n",
      "[  0   1   2   3   4   5   6   9  10  11  12  17  18  19  20  21  22  23\n",
      "  24  25  26  27  29  30  32  33  35  37  38  39  40  41  42  43  44  45\n",
      "  46  47  48  49  50  51  53  55  57  58  59  60  61  62  63  64  65  68\n",
      "  69  70  71  72  73  74  75  77  78  79  80  81  82  84  86  87  88  89\n",
      "  91  92  94  95  96  97  99 100 101 102 103 104 105 107 108 109 111 112\n",
      " 113 115 116 117 119 120 121 123 124 126 127 128 129 130 132 133 135 136\n",
      " 137 138 139 140 141 142 143 145 146 147 148 149]\n",
      "\n",
      " test set shape:   (30, 4) (30,)\n",
      "\n",
      " training set shape:   (120, 4) (120,)\n"
     ]
    }
   ],
   "source": [
    "testset_rate = 0.2\n",
    "\n",
    "testset_idx = np.sort( np.random.choice(np.arange(150), round(len(iris_data)* testset_rate),replace=False) )\n",
    "trainingset_idx = np.sort( np.setdiff1d(np.arange(150), testset_idx) )\n",
    "\n",
    "print('testset_idx \\n')\n",
    "print(testset_idx)\n",
    "print('\\n trainingset_idx \\n')\n",
    "print(trainingset_idx)\n",
    "\n",
    "iris_test_data = iris_data[testset_idx]\n",
    "iris_test_target = iris_target[testset_idx]\n",
    "\n",
    "iris_training_data = iris_data[trainingset_idx]\n",
    "iris_training_target = iris_target[trainingset_idx]\n",
    "\n",
    "print('\\n test set shape:  ', iris_test_data.shape, iris_test_target.shape )\n",
    "print('\\n training set shape:  ', iris_training_data.shape, iris_training_target.shape )"
   ]
  },
  {
   "cell_type": "code",
   "execution_count": 3,
   "id": "athletic-reporter",
   "metadata": {},
   "outputs": [
    {
     "data": {
      "text/plain": [
       "<matplotlib.image.AxesImage at 0x22820e84748>"
      ]
     },
     "execution_count": 3,
     "metadata": {},
     "output_type": "execute_result"
    },
    {
     "data": {
      "image/png": "[encoded data removed]",
      "text/plain": [
       "<Figure size 432x288 with 1 Axes>"
      ]
     },
     "metadata": {
      "needs_background": "light"
     },
     "output_type": "display_data"
    }
   ],
   "source": [
    "random_index = np.random.choice(70000,1)\n",
    "mnist_sample = mnist_data[random_index].reshape(28,28)\n",
    "mnist_sample_Label = mnist_target[random_index]\n",
    "plt.axis('off')\n",
    "plt.title(mnist_sample_Label)\n",
    "plt.imshow(mnist_sample, 'gray')"
   ]
  },
  {
   "cell_type": "code",
   "execution_count": 4,
   "id": "turned-velvet",
   "metadata": {},
   "outputs": [],
   "source": [
    "#2. Design a feed-forward single layer perceptron (SLP), and check the classification accuracy with random weights. \n",
    "\n",
    "# activation function\n",
    "def sigmoid(x):\n",
    "    x = np.clip( x, -700, 700 ) # overflow 방지\n",
    "    return 1 / (1 + np.exp(-x))"
   ]
  },
  {
   "cell_type": "code",
   "execution_count": 5,
   "id": "funky-immunology",
   "metadata": {},
   "outputs": [
    {
     "name": "stdout",
     "output_type": "stream",
     "text": [
      "initialization\n",
      "input size:     4\n",
      "weight1 shape:  (4, 3)\n",
      "hidden size:    3\n",
      "weight2 shape:  (3, 1)\n",
      "output size:    1 \n",
      "\n",
      "accuracy:  50.0  %\n"
     ]
    }
   ],
   "source": [
    "class SLP_NN():\n",
    "    def __init__(self, input_size, output_size, hidden_size):\n",
    "        self.input_size = input_size\n",
    "        self.output_size = output_size\n",
    "        self.hidden_size = hidden_size\n",
    "        # weights\n",
    "        self.weight1 = np.random.randn(input_size, hidden_size)\n",
    "        self.weight2 = np.random.randn(hidden_size, output_size)\n",
    "        \n",
    "        print('initialization')\n",
    "        print('input size:    ', self.input_size)\n",
    "        print('weight1 shape: ', self.weight1.shape)\n",
    "        print('hidden size:   ', self.hidden_size)\n",
    "        print('weight2 shape: ', self.weight2.shape)\n",
    "        print('output size:   ', self.output_size,'\\n')\n",
    "        \n",
    "    # Forward propagation\n",
    "    def forward(self, x):\n",
    "        self.hidden_in  = np.dot(x, self.weight1)\n",
    "        self.hidden_out = sigmoid(self.hidden_in)\n",
    "        self.output_in  = np.dot(self.hidden_out, self.weight2)\n",
    "        self.output_out = sigmoid(self.output_in)\n",
    "        return self.output_out\n",
    "\n",
    "target1_idx  = np.where( iris_target == [0] )\n",
    "target2_idx  = np.where( iris_target == [1] )\n",
    "binary_subset = np.append(target1_idx, target2_idx)\n",
    "\n",
    "input_size, output_size, hidden_size = 4, 1, 3\n",
    "NN = SLP_NN(input_size, output_size, hidden_size)\n",
    "\n",
    "correct = 0\n",
    "for i in binary_subset:\n",
    "    iris_d = iris_data[i]\n",
    "    iris_t = iris_target[i]\n",
    "    predict = NN.forward(iris_d)\n",
    "    if iris_t == np.round(predict):\n",
    "        correct+=1\n",
    "        \n",
    "print('accuracy: ', 100*(correct/len(binary_subset)),' %')\n",
    "    \n",
    "    "
   ]
  },
  {
   "cell_type": "code",
   "execution_count": 6,
   "id": "compressed-housing",
   "metadata": {},
   "outputs": [
    {
     "name": "stdout",
     "output_type": "stream",
     "text": [
      "initialization\n",
      "input size:     784\n",
      "weight1 shape:  (784, 1024)\n",
      "hidden1 size:    1024\n",
      "weight2 shape:  (1024, 256)\n",
      "hidden2 size:    256\n",
      "weight3 shape:  (256, 10)\n",
      "output size:    10 \n",
      "\n"
     ]
    }
   ],
   "source": [
    "# 3. Design a feed-forward multilayer perceptron (MLP), and check the classification accuracy with random weights.\n",
    "\n",
    "# activation function\n",
    "def softmax(x):\n",
    "    exp_x = np.exp(x)\n",
    "    s = np.sum(exp_x)\n",
    "    y = exp_x / s\n",
    "    return y\n",
    "\n",
    "def sigmoid(x):\n",
    "    x = np.clip( x, -700, 700 ) # overflow 방지\n",
    "    return 1 / (1 + np.exp(-x))\n",
    "\n",
    "class MLP_NN():\n",
    "    def __init__(self, input_size, output_size, hidden1_size, hidden2_size):\n",
    "        self.input_size = input_size\n",
    "        self.output_size = output_size\n",
    "        self.hidden1_size = hidden1_size\n",
    "        self.hidden2_size = hidden2_size\n",
    "        # weights\n",
    "        self.weight1 = np.random.randn(input_size, hidden1_size)\n",
    "        self.weight2 = np.random.randn(hidden1_size, hidden2_size)\n",
    "        self.weight3 = np.random.randn(hidden2_size, output_size)\n",
    "        \n",
    "        print('initialization')\n",
    "        print('input size:    ', self.input_size)\n",
    "        print('weight1 shape: ', self.weight1.shape)\n",
    "        print('hidden1 size:   ', self.hidden1_size)\n",
    "        print('weight2 shape: ', self.weight2.shape)\n",
    "        print('hidden2 size:   ', self.hidden2_size)\n",
    "        print('weight3 shape: ', self.weight3.shape)\n",
    "        print('output size:   ', self.output_size,'\\n')\n",
    "        \n",
    "    # Forward propagation\n",
    "    def forward(self, x):\n",
    "        self.hidden1_in  = np.dot(x, self.weight1)\n",
    "        self.hidden1_out = sigmoid(self.hidden1_in)\n",
    "        \n",
    "        self.hidden2_in = np.dot(self.hidden1_out, self.weight2)\n",
    "        self.hidden2_out = sigmoid(self.hidden2_in)\n",
    "        \n",
    "        self.output_in  = np.dot(self.hidden2_out, self.weight3)\n",
    "        self.output_out = sigmoid(self.output_in)\n",
    "        return self.output_out\n",
    "\n",
    "\n",
    "input_size, output_size, hidden1_size, hidden2_size = 784, 10, 1024, 256\n",
    "NN = MLP_NN(input_size, output_size, hidden1_size, hidden2_size)"
   ]
  },
  {
   "cell_type": "code",
   "execution_count": 27,
   "id": "wanted-patient",
   "metadata": {},
   "outputs": [
    {
     "name": "stdout",
     "output_type": "stream",
     "text": [
      "0 번째: predict 7 label 5\n",
      "10000 번째: predict 7 label 3\n",
      "20000 번째: predict 7 label 5\n",
      "30000 번째: predict 9 label 3\n",
      "40000 번째: predict 7 label 7\n",
      "50000 번째: predict 7 label 3\n",
      "60000 번째: predict 7 label 7\n",
      "accuracy:  10.857142857142858  %\n"
     ]
    }
   ],
   "source": [
    "n =0 \n",
    "for i in range(len(mnist_data)):\n",
    "    mnist_d = mnist_data[i]\n",
    "    mnist_t = mnist_target[i]\n",
    "    predict = NN.forward(mnist_d)\n",
    "    predict = softmax(predict)\n",
    "    predict = np.argmax(predict)\n",
    "    if int(mnist_t) == predict:\n",
    "        n +=1\n",
    "    if i % 10000 == 0:\n",
    "        print(i, '번째: predict', predict, 'label', mnist_t)\n",
    "        \n",
    "print('accuracy: ', 100*( n / len(mnist_data)),' %')"
   ]
  }
 ],
 "metadata": {
  "kernelspec": {
   "display_name": "Python 3",
   "language": "python",
   "name": "python3"
  },
  "language_info": {
   "codemirror_mode": {
    "name": "ipython",
    "version": 3
   },
   "file_extension": ".py",
   "mimetype": "text/x-python",
   "name": "python",
   "nbconvert_exporter": "python",
   "pygments_lexer": "ipython3",
   "version": "3.7.9"
  }
 },
 "nbformat": 4,
 "nbformat_minor": 5
}
